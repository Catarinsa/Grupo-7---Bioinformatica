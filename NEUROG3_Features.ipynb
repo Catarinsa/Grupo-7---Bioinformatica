{
 "cells": [
  {
   "cell_type": "code",
   "execution_count": 1,
   "id": "54c11b6d",
   "metadata": {},
   "outputs": [],
   "source": [
    "from Bio import SeqIO #Importar \"SeqIO\"\n",
    "from Bio import Seq"
   ]
  },
  {
   "cell_type": "code",
   "execution_count": 2,
   "id": "9d462201",
   "metadata": {},
   "outputs": [
    {
     "data": {
      "text/plain": [
       "SeqRecord(seq=Seq('GCTCAGGAAATCCCTGCGGTCTCACCGCCGCGCCTCGAGAGAGAGCGTGACAGA...CAA'), id='NC_000010.11', name='NC_000010', description='Homo sapiens chromosome 10, GRCh38.p14 Primary Assembly', dbxrefs=['BioProject:PRJNA168', 'Assembly:GCF_000001405.40'])"
      ]
     },
     "execution_count": 2,
     "metadata": {},
     "output_type": "execute_result"
    }
   ],
   "source": [
    "record=SeqIO.read(\"sequence-NEUROG3.gb\",\"genbank\")\n",
    "record"
   ]
  },
  {
   "cell_type": "code",
   "execution_count": 3,
   "id": "80e2cea6",
   "metadata": {},
   "outputs": [
    {
     "name": "stdout",
     "output_type": "stream",
     "text": [
      "ID: NC_000010.11\n",
      "\n",
      "Nome: NC_000010\n",
      "\n",
      "Tamanho da sequência: 1938\n",
      "\n",
      "Descrição: Homo sapiens chromosome 10, GRCh38.p14 Primary Assembly\n",
      "\n",
      "Sequência nucleotídica: GCTCAGGAAATCCCTGCGGTCTCACCGCCGCGCCTCGAGAGAGAGCGTGACAGAGGCCTCGGACCCCATTCTCTCTTCTTTTCTCCTTTGGGGCTGGGGCAACTCCCAGGCGGGGGCGCCTGCAGCTCAGCTGAACTTGGCGACCAGAAGCCCGCTGAGCTCCCCACGGCCCTCGCTGCTCATCGCTCTCTATTCTTTTGCGCCGGTAGAAAGGTAATATTTGGAGGCCTCCGAGGGACGGGCAGGGGAAAGAGGGATCCTCTGACCCAGCGGGGGCTGGGAGGATGGCTGTTTTTGTTTTTTCCCACCTAGCCTCGGAATCGCGGACTGCGCCCAGTGACGGACTCAAACTTACCCTTCCCTCTGACCCCGCCGTAGGATGACGCCTCAACCCTCGGGTGCGCCCACTGTCCAAGTGACCCGTGAGACGGAGCGGTCCTTCCCCAGAGCCTCGGAAGACGAAGTGACCTGCCCCACGTCCGCCCCGCCCAGCCCCACTCGCACACGGGGGAACTGCGCAGAGGCGGAAGAGGGAGGCTGCCGAGGGGCCCCGAGGAAGCTCCGGGCACGGCGCGGGGGACGCAGCCGGCCTAAGAGCGAGTTGGCACTGAGCAAGCAGCGACGGAGTCGGCGAAAGAAGGCCAACGACCGCGAGCGCAATCGAATGCACAACCTCAACTCGGCACTGGACGCCCTGCGCGGTGTCCTGCCCACCTTCCCAGACGACGCGAAGCTCACCAAGATCGAGACGCTGCGCTTCGCCCACAACTACATCTGGGCGCTGACTCAAACGCTGCGCATAGCGGACCACAGCTTGTACGCGCTGGAGCCGCCGGCGCCGCACTGCGGGGAGCTGGGCAGCCCAGGCGGTTCCCCCGGGGACTGGGGGTCCCTCTACTCCCCAGTCTCCCAGGCTGGCAGCCTGAGTCCCGCCGCGTCGCTGGAGGAGCGACCCGGGCTGCTGGGGGCCACCTTTTCCGCCTGCTTGAGCCCAGGCAGTCTGGCTTTCTCAGATTTTCTGTGAAAGGACCTGTCTGTCGCTGGGCTGTGGGTGCTAAGGGTAAGGGAGAGGGAGGGAGCCGGGAGCCGTAGAGGGTGGCCGACGGCGGCGGCCCTCAAAAGCACTTGTTCCTTCTGCTTCTCCCTGGCTGACCCCTGGCCGGCCCAGGCCTCCACGGGGGCGGCAGGCTGGGTTCATTCCCCGGCCCTCCGAGCCGCGCCAACGCACGCAACCCTTGCTGCTGCCCGCGCGAAGTGGGCATTGCAAAGTGCGCTCATTTTAGGCCTCCTCTCTGCCACCACCCCATAATCTCATTCAAAGAATACTAGAATGGTAGCACTACCCGGCCGGAGCCGCCCACCGTCTTGGGTCGCCCTACCCTCACTCAAGTCTGTCTGCCTCTCAGTCTCTTACCACCCCTCCTCCAATGTGATTCAATCCAATGTTTGGTCTCTCAGCGCTTACTCCCCTTGCCTTGCTCCAAAGACGCTGCCGATCTGCTCTACTCCCAATCAGGTCCGGGATTTCAGGGCGCCTCACTCTGCCTTAAAGCCACGAAGGCGACCCTCTGCCTTCTCCTCGTGCACTTTTCGGAGCCATTGCCCTCCCGGGGCGGAAGACCAGGCTGTGAACTGGGAAAGCGCTAGCCCGGCCAGGGAGCATCTCCCCAGCCTCCCTGCGAACTGCGCCTGAAACGTGAGCTGCGCTGCAGGTGCCTGGAGCACCGCGCATCTTTTTTTTTTAAATCTGTTTGTAAATTATATGATGCCTTTTGAAATCAATTTTGGTACAGTAAATTATATGGCCCCTCCCCTGTTTTACACATTTGTATTTATTAATGAGATTTCACAGCAGGGAAAAGCCTATATTTTGTATATTAGATTATTTAGGGATTGCTGGATGAGATTTTAAGCCAATAAAAAAAAATGGACCTTCAA\n"
     ]
    }
   ],
   "source": [
    "print('ID:',record.id)\n",
    "print(\"\")\n",
    "print('Nome:',record.name)\n",
    "print(\"\")\n",
    "print('Tamanho da sequência:',len(record.seq))\n",
    "print(\"\")\n",
    "print('Descrição:',record.description)\n",
    "print(\"\")\n",
    "print('Sequência nucleotídica:',record.seq)"
   ]
  },
  {
   "cell_type": "code",
   "execution_count": 4,
   "id": "10e6fb99",
   "metadata": {},
   "outputs": [
    {
     "name": "stdout",
     "output_type": "stream",
     "text": [
      "As features são:  [SeqFeature(FeatureLocation(ExactPosition(0), ExactPosition(1938), strand=1), type='source'), SeqFeature(FeatureLocation(ExactPosition(0), ExactPosition(1938), strand=1), type='gene'), SeqFeature(CompoundLocation([FeatureLocation(ExactPosition(0), ExactPosition(213), strand=1), FeatureLocation(ExactPosition(312), ExactPosition(1938), strand=1)], 'join'), type='mRNA', location_operator='join'), SeqFeature(CompoundLocation([FeatureLocation(ExactPosition(0), ExactPosition(213), strand=1), FeatureLocation(ExactPosition(378), ExactPosition(1725), strand=1)], 'join'), type='mRNA', location_operator='join'), SeqFeature(FeatureLocation(ExactPosition(379), ExactPosition(1024), strand=1), type='CDS'), SeqFeature(FeatureLocation(ExactPosition(379), ExactPosition(1024), strand=1), type='CDS'), SeqFeature(FeatureLocation(BeforePosition(0), ExactPosition(466), strand=-1), type='gene'), SeqFeature(FeatureLocation(BeforePosition(355), ExactPosition(466), strand=-1), type='ncRNA'), SeqFeature(FeatureLocation(BeforePosition(355), ExactPosition(466), strand=-1), type='ncRNA')]\n"
     ]
    }
   ],
   "source": [
    "feat=record.features\n",
    "print(\"As features são: \",feat)"
   ]
  },
  {
   "cell_type": "code",
   "execution_count": 5,
   "id": "faa433a4",
   "metadata": {},
   "outputs": [
    {
     "name": "stdout",
     "output_type": "stream",
     "text": [
      "O número de features é:  9\n",
      "\n",
      "O tipo e localização das features são: \n",
      "source [0:1938](+)\n",
      "gene [0:1938](+)\n",
      "mRNA join{[0:213](+), [312:1938](+)}\n",
      "mRNA join{[0:213](+), [378:1725](+)}\n",
      "CDS [379:1024](+)\n",
      "CDS [379:1024](+)\n",
      "gene [<0:466](-)\n",
      "ncRNA [<355:466](-)\n",
      "ncRNA [<355:466](-)\n"
     ]
    }
   ],
   "source": [
    "print(\"O número de features é: \",len(record.features))\n",
    "print(\"\")\n",
    "print(\"O tipo e localização das features são: \")\n",
    "for f in record.features: \n",
    "    print(f.type, f.location)"
   ]
  },
  {
   "cell_type": "code",
   "execution_count": 6,
   "id": "84280582",
   "metadata": {},
   "outputs": [
    {
     "name": "stdout",
     "output_type": "stream",
     "text": [
      "Índices das sequências codificantes:  [4, 5]\n"
     ]
    }
   ],
   "source": [
    "featcds=[]\n",
    "\n",
    "for i in range(len(record.features)):\n",
    "    if record.features[i].type==\"CDS\":\n",
    "        featcds.append(i)\n",
    "    \n",
    "print(\"Índices das sequências codificantes: \",featcds)"
   ]
  },
  {
   "cell_type": "code",
   "execution_count": 7,
   "id": "eb8e7194",
   "metadata": {},
   "outputs": [
    {
     "name": "stdout",
     "output_type": "stream",
     "text": [
      "Identificação da proteína:  ['neurogenin-3 isoform X1']\n",
      "Sequência da proteína:  ['MTPQPSGAPTVQVTRETERSFPRASEDEVTCPTSAPPSPTRTRGNCAEAEEGGCRGAPRKLRARRGGRSRPKSELALSKQRRSRRKKANDRERNRMHNLNSALDALRGVLPTFPDDAKLTKIETLRFAHNYIWALTQTLRIADHSLYALEPPAPHCGELGSPGGSPGDWGSLYSPVSQAGSLSPAASLEERPGLLGATFSACLSPGSLAFSDFL']\n",
      "\n",
      "Identificação da proteína:  ['neurogenin-3']\n",
      "Sequência da proteína:  ['MTPQPSGAPTVQVTRETERSFPRASEDEVTCPTSAPPSPTRTRGNCAEAEEGGCRGAPRKLRARRGGRSRPKSELALSKQRRSRRKKANDRERNRMHNLNSALDALRGVLPTFPDDAKLTKIETLRFAHNYIWALTQTLRIADHSLYALEPPAPHCGELGSPGGSPGDWGSLYSPVSQAGSLSPAASLEERPGLLGATFSACLSPGSLAFSDFL']\n",
      "\n"
     ]
    }
   ],
   "source": [
    "for k in featcds:\n",
    "    print(\"Identificação da proteína: \",record.features[k].qualifiers[\"product\"])\n",
    "    print(\"Sequência da proteína: \",record.features[k].qualifiers[\"translation\"])\n",
    "    print(\"\")"
   ]
  },
  {
   "cell_type": "code",
   "execution_count": 8,
   "id": "4b93eac8",
   "metadata": {},
   "outputs": [
    {
     "name": "stdout",
     "output_type": "stream",
     "text": [
      "Numero de features tipo gene:  2\n"
     ]
    }
   ],
   "source": [
    "featgene=[]\n",
    "for i in range(len(record.features)):\n",
    "    if record.features[i].type==\"gene\":\n",
    "        featgene.append(i)\n",
    "print(\"Numero de features tipo gene: \",len(featgene))"
   ]
  },
  {
   "cell_type": "code",
   "execution_count": 9,
   "id": "6b249368",
   "metadata": {},
   "outputs": [
    {
     "name": "stdout",
     "output_type": "stream",
     "text": [
      "['NEUROG3']\n",
      "['LOC101929021']\n"
     ]
    }
   ],
   "source": [
    "for i in featgene:\n",
    "    print(record.features[i].qualifiers[\"gene\"])"
   ]
  },
  {
   "cell_type": "code",
   "execution_count": null,
   "id": "629eef18",
   "metadata": {},
   "outputs": [],
   "source": []
  }
 ],
 "metadata": {
  "kernelspec": {
   "display_name": "Python 3",
   "language": "python",
   "name": "python3"
  },
  "language_info": {
   "codemirror_mode": {
    "name": "ipython",
    "version": 3
   },
   "file_extension": ".py",
   "mimetype": "text/x-python",
   "name": "python",
   "nbconvert_exporter": "python",
   "pygments_lexer": "ipython3",
   "version": "3.8.8"
  }
 },
 "nbformat": 4,
 "nbformat_minor": 5
}
