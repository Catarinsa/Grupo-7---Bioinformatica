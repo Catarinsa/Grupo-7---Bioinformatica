{
 "cells": [
  {
   "cell_type": "code",
   "execution_count": null,
   "id": "50fb247c",
   "metadata": {},
   "outputs": [],
   "source": [
    "from Bio.Blast import NCBIXML\n",
    "from Bio.Blast import NCBIWWW\n",
    "from Bio import SeqIO"
   ]
  },
  {
   "cell_type": "code",
   "execution_count": null,
   "id": "e55db967",
   "metadata": {},
   "outputs": [],
   "source": [
    "seq_NEUROG3 = SeqIO.read(open(\"sequence-NEUROG3.fasta\"), format=\"fasta\")"
   ]
  },
  {
   "cell_type": "code",
   "execution_count": null,
   "id": "2f77f9e5",
   "metadata": {},
   "outputs": [],
   "source": [
    "result_handle = NCBIWWW.qblast(\"blastn\", \"nt\", seq_NEUROG3.format(\"fasta\"))\n",
    "file_save = open (\"NEUROG3-Alignment.xml\", \"w\")\n",
    "file_save.write(result_handle.read())\n",
    "file_save.close()\n",
    "result_handle.close()"
   ]
  },
  {
   "cell_type": "code",
   "execution_count": null,
   "id": "26462dc7",
   "metadata": {},
   "outputs": [],
   "source": [
    "result_handle = open(\"NEUROG3-Alignment.xml\")\n",
    "record = NCBIXML.read(result_handle)"
   ]
  },
  {
   "cell_type": "code",
   "execution_count": null,
   "id": "e3df1cf8",
   "metadata": {},
   "outputs": [],
   "source": [
    "print(\"Parâmetros\")\n",
    "print(\"Database:\" , record.database)\n",
    "print(\"Matrix:\", record.matrix)\n",
    "print(\"Gap penalties:\", record.gap_penalties)"
   ]
  },
  {
   "cell_type": "code",
   "execution_count": null,
   "id": "0b8b9464",
   "metadata": {},
   "outputs": [],
   "source": [
    "e_value_threshold = 0.0000001\n",
    "c = len(seq_NEUROG3.seq)\n",
    "\n",
    "print(\"Sequências homólogas:\")\n",
    "print(\"\")\n",
    "for alignment in record.alignments:\n",
    "    for hsp in aligment.hsps:\n",
    "        n=hsp.align_length\n",
    "        i=(hsp.identities/n)\n",
    "        q=(n/c)\n",
    "        p=(hsp.positives/n)\n",
    "        if hsp.expect < e_value_threshold and q>=0.9 and i>=0.9:\n",
    "            print(\"Acesso:\" , alignment.accession)\n",
    "            print(\"Hit id:\" , alignment.hit_id, \"\\n\")\n",
    "            print(\"E-value:\" , hsp.expect)\n",
    "            print(\"Comprimento:\", hsp.align_length)\n",
    "            print(\"Identidade:\" , (i*100), \"%\")\n",
    "            print(\"Query cover:\" , (q*100), \"%\")\n",
    "            print(\"Positivies:\", (p*100), \"%\", \"\\n\")\n",
    "            print(\"Definição:\" ,alignment.hit_def, \"\\n\")\n",
    "            print(\"---Alinhamento----\", \"Query start:\", hsp.query_start, \"Sbjct start:\",hsp_sbjct_start)"
   ]
  },
  {
   "cell_type": "code",
   "execution_count": null,
   "id": "2c30b829",
   "metadata": {},
   "outputs": [],
   "source": []
  },
  {
   "cell_type": "code",
   "execution_count": null,
   "id": "417c3db7",
   "metadata": {},
   "outputs": [],
   "source": []
  },
  {
   "cell_type": "code",
   "execution_count": null,
   "id": "7868d05f",
   "metadata": {},
   "outputs": [],
   "source": []
  }
 ],
 "metadata": {
  "kernelspec": {
   "display_name": "Python 3",
   "language": "python",
   "name": "python3"
  },
  "language_info": {
   "codemirror_mode": {
    "name": "ipython",
    "version": 3
   },
   "file_extension": ".py",
   "mimetype": "text/x-python",
   "name": "python",
   "nbconvert_exporter": "python",
   "pygments_lexer": "ipython3",
   "version": "3.8.8"
  }
 },
 "nbformat": 4,
 "nbformat_minor": 5
}
